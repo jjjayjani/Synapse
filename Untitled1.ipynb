{
  "nbformat": 4,
  "nbformat_minor": 0,
  "metadata": {
    "colab": {
      "name": "Untitled1.ipynb",
      "provenance": [],
      "authorship_tag": "ABX9TyP/tF+i/aN0eRLx8N2JVror",
      "include_colab_link": true
    },
    "kernelspec": {
      "name": "python3",
      "display_name": "Python 3"
    }
  },
  "cells": [
    {
      "cell_type": "markdown",
      "metadata": {
        "id": "view-in-github",
        "colab_type": "text"
      },
      "source": [
        "<a href=\"https://colab.research.google.com/github/jjjayjani/Synapse/blob/master/Untitled1.ipynb\" target=\"_parent\"><img src=\"https://colab.research.google.com/assets/colab-badge.svg\" alt=\"Open In Colab\"/></a>"
      ]
    },
    {
      "cell_type": "code",
      "metadata": {
        "id": "2jcl0B1eJ5eJ",
        "colab_type": "code",
        "colab": {
          "base_uri": "https://localhost:8080/",
          "height": 299
        },
        "outputId": "ad9e4e5a-8b48-489e-a62b-5e78617a8556"
      },
      "source": [
        "!git clone https://github.com/theand9/data-viz-challenge.git\n",
        "import pandas as pd\n",
        "import matplotlib as plt\n",
        "\n",
        "patients_df = pd.read_json('/content/data-viz-challenge/data.json')\n",
        "data = pd.DataFrame([md for md in patients_df.data])\n",
        "\n",
        "data = data[(data['category']=='Environment') | (data['category']=='Sports')]\n",
        "#data.head()\n",
        "category=data['category']\n",
        "amount=data['amount']\n",
        "gend = data['gender'].value_counts()\n",
        "gend.plot.bar()\n",
        "andios = data['device'].value_counts()\n",
        "andios.plot.bar()\n",
        "states = data['state'].value_counts()\n",
        "states.plot.bar()\n",
        "data['amount'].plot(kind='hist')"
      ],
      "execution_count": 39,
      "outputs": [
        {
          "output_type": "stream",
          "text": [
            "fatal: destination path 'data-viz-challenge' already exists and is not an empty directory.\n"
          ],
          "name": "stdout"
        },
        {
          "output_type": "execute_result",
          "data": {
            "text/plain": [
              "<matplotlib.axes._subplots.AxesSubplot at 0x7fa1c4323e10>"
            ]
          },
          "metadata": {
            "tags": []
          },
          "execution_count": 39
        },
        {
          "output_type": "display_data",
          "data": {
            "image/png": "[encoded data removed]",
            "text/plain": [
              "<Figure size 432x288 with 1 Axes>"
            ]
          },
          "metadata": {
            "tags": [],
            "needs_background": "light"
          }
        }
      ]
    },
    {
      "cell_type": "code",
      "metadata": {
        "id": "yzML0XhBXP2L",
        "colab_type": "code",
        "colab": {}
      },
      "source": [
        "new_data=json.loads(data)\n"
      ],
      "execution_count": 19,
      "outputs": []
    },
    {
      "cell_type": "code",
      "metadata": {
        "id": "_QcGC_yNYCEI",
        "colab_type": "code",
        "colab": {}
      },
      "source": [
        "x=new_data['data']\n"
      ],
      "execution_count": 21,
      "outputs": []
    },
    {
      "cell_type": "code",
      "metadata": {
        "id": "YzI9C94-YW54",
        "colab_type": "code",
        "colab": {}
      },
      "source": [
        "df=pd.DataFrame(data=x)"
      ],
      "execution_count": null,
      "outputs": []
    }
  ]
}